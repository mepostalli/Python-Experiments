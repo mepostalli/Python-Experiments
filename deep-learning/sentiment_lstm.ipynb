{
 "cells": [
  {
   "cell_type": "code",
   "execution_count": 283,
   "id": "a385e978-28cc-4bff-a3f7-8b9345f638b9",
   "metadata": {},
   "outputs": [],
   "source": [
    "import torch\n",
    "import torch.nn as nn\n",
    "import torch.optim as optim\n",
    "from torch.utils.data import DataLoader\n",
    "from sklearn.model_selection import train_test_split\n",
    "from sklearn.preprocessing import LabelEncoder\n",
    "from sklearn.metrics import accuracy_score\n",
    "import numpy as np\n",
    "import pandas as pd"
   ]
  },
  {
   "cell_type": "code",
   "execution_count": 284,
   "id": "b437f44c-545e-4e13-98da-c2d9751c1f28",
   "metadata": {},
   "outputs": [
    {
     "data": {
      "text/html": [
       "<div>\n",
       "<style scoped>\n",
       "    .dataframe tbody tr th:only-of-type {\n",
       "        vertical-align: middle;\n",
       "    }\n",
       "\n",
       "    .dataframe tbody tr th {\n",
       "        vertical-align: top;\n",
       "    }\n",
       "\n",
       "    .dataframe thead th {\n",
       "        text-align: right;\n",
       "    }\n",
       "</style>\n",
       "<table border=\"1\" class=\"dataframe\">\n",
       "  <thead>\n",
       "    <tr style=\"text-align: right;\">\n",
       "      <th></th>\n",
       "      <th>Text, Sentiment, Source, Date/Time, User ID, Location, Confidence Score</th>\n",
       "    </tr>\n",
       "  </thead>\n",
       "  <tbody>\n",
       "    <tr>\n",
       "      <th>0</th>\n",
       "      <td>\"I love this product!\", Positive, Twitter, 202...</td>\n",
       "    </tr>\n",
       "    <tr>\n",
       "      <th>1</th>\n",
       "      <td>\"The service was terrible.\", Negative, Yelp Re...</td>\n",
       "    </tr>\n",
       "    <tr>\n",
       "      <th>2</th>\n",
       "      <td>\"This movie is amazing!\", Positive, IMDb, 2023...</td>\n",
       "    </tr>\n",
       "    <tr>\n",
       "      <th>3</th>\n",
       "      <td>\"I'm so disappointed with their customer suppo...</td>\n",
       "    </tr>\n",
       "    <tr>\n",
       "      <th>4</th>\n",
       "      <td>\"Just had the best meal of my life!\", Positive...</td>\n",
       "    </tr>\n",
       "    <tr>\n",
       "      <th>...</th>\n",
       "      <td>...</td>\n",
       "    </tr>\n",
       "    <tr>\n",
       "      <th>91</th>\n",
       "      <td>\"Just had the most amazing vacation! I can't w...</td>\n",
       "    </tr>\n",
       "    <tr>\n",
       "      <th>92</th>\n",
       "      <td>\"The food at this restaurant was awful. Never ...</td>\n",
       "    </tr>\n",
       "    <tr>\n",
       "      <th>93</th>\n",
       "      <td>\"I can't stop listening to this song. It's my ...</td>\n",
       "    </tr>\n",
       "    <tr>\n",
       "      <th>94</th>\n",
       "      <td>\"Their website is so confusing and poorly desi...</td>\n",
       "    </tr>\n",
       "    <tr>\n",
       "      <th>95</th>\n",
       "      <td>\"I had an incredible experience at the theme p...</td>\n",
       "    </tr>\n",
       "  </tbody>\n",
       "</table>\n",
       "<p>96 rows × 1 columns</p>\n",
       "</div>"
      ],
      "text/plain": [
       "   Text, Sentiment, Source, Date/Time, User ID, Location, Confidence Score\n",
       "0   \"I love this product!\", Positive, Twitter, 202...                     \n",
       "1   \"The service was terrible.\", Negative, Yelp Re...                     \n",
       "2   \"This movie is amazing!\", Positive, IMDb, 2023...                     \n",
       "3   \"I'm so disappointed with their customer suppo...                     \n",
       "4   \"Just had the best meal of my life!\", Positive...                     \n",
       "..                                                ...                     \n",
       "91  \"Just had the most amazing vacation! I can't w...                     \n",
       "92  \"The food at this restaurant was awful. Never ...                     \n",
       "93  \"I can't stop listening to this song. It's my ...                     \n",
       "94  \"Their website is so confusing and poorly desi...                     \n",
       "95  \"I had an incredible experience at the theme p...                     \n",
       "\n",
       "[96 rows x 1 columns]"
      ]
     },
     "execution_count": 284,
     "metadata": {},
     "output_type": "execute_result"
    }
   ],
   "source": [
    "df = pd.read_csv(\"customer_feedbacks.csv\")\n",
    "df = df.drop(97,axis = 0)\n",
    "df = df.drop(96, axis = 0)\n",
    "df"
   ]
  },
  {
   "cell_type": "code",
   "execution_count": 285,
   "id": "086834b5-748a-4a25-bb08-7f7419247de9",
   "metadata": {},
   "outputs": [],
   "source": [
    "array = df['Text, Sentiment, Source, Date/Time, User ID, Location, Confidence Score'].values\n",
    "data_list = array.tolist()\n",
    "\n",
    "feedbacks = []\n",
    "sentiments = []\n",
    "sources = []\n",
    "\n",
    "for i in range(96):\n",
    "        feedbacks.append(str((data_list[i].split(',')[0])))\n",
    "        sentiments.append(str((data_list[i].split(',')[1])))\n",
    "        \n",
    "        sources.append(str((data_list[i].split(',')[2])))"
   ]
  },
  {
   "cell_type": "code",
   "execution_count": 286,
   "id": "9fe73672-874d-42a4-8300-9d3eacb653fc",
   "metadata": {},
   "outputs": [],
   "source": [
    "df['feedback'] = feedbacks\n",
    "df['sentiment'] = sentiments\n",
    "df['source'] = sources"
   ]
  },
  {
   "cell_type": "code",
   "execution_count": 287,
   "id": "8e5c51fa-5ffd-4867-8adc-48793a604632",
   "metadata": {},
   "outputs": [
    {
     "data": {
      "text/html": [
       "<div>\n",
       "<style scoped>\n",
       "    .dataframe tbody tr th:only-of-type {\n",
       "        vertical-align: middle;\n",
       "    }\n",
       "\n",
       "    .dataframe tbody tr th {\n",
       "        vertical-align: top;\n",
       "    }\n",
       "\n",
       "    .dataframe thead th {\n",
       "        text-align: right;\n",
       "    }\n",
       "</style>\n",
       "<table border=\"1\" class=\"dataframe\">\n",
       "  <thead>\n",
       "    <tr style=\"text-align: right;\">\n",
       "      <th></th>\n",
       "      <th>Text, Sentiment, Source, Date/Time, User ID, Location, Confidence Score</th>\n",
       "      <th>feedback</th>\n",
       "      <th>sentiment</th>\n",
       "      <th>source</th>\n",
       "    </tr>\n",
       "  </thead>\n",
       "  <tbody>\n",
       "    <tr>\n",
       "      <th>0</th>\n",
       "      <td>\"I love this product!\", Positive, Twitter, 202...</td>\n",
       "      <td>\"I love this product!\"</td>\n",
       "      <td>Positive</td>\n",
       "      <td>Twitter</td>\n",
       "    </tr>\n",
       "    <tr>\n",
       "      <th>1</th>\n",
       "      <td>\"The service was terrible.\", Negative, Yelp Re...</td>\n",
       "      <td>\"The service was terrible.\"</td>\n",
       "      <td>Negative</td>\n",
       "      <td>Yelp Reviews</td>\n",
       "    </tr>\n",
       "    <tr>\n",
       "      <th>2</th>\n",
       "      <td>\"This movie is amazing!\", Positive, IMDb, 2023...</td>\n",
       "      <td>\"This movie is amazing!\"</td>\n",
       "      <td>Positive</td>\n",
       "      <td>IMDb</td>\n",
       "    </tr>\n",
       "    <tr>\n",
       "      <th>3</th>\n",
       "      <td>\"I'm so disappointed with their customer suppo...</td>\n",
       "      <td>\"I'm so disappointed with their customer suppo...</td>\n",
       "      <td>Negative</td>\n",
       "      <td>Online Forum</td>\n",
       "    </tr>\n",
       "    <tr>\n",
       "      <th>4</th>\n",
       "      <td>\"Just had the best meal of my life!\", Positive...</td>\n",
       "      <td>\"Just had the best meal of my life!\"</td>\n",
       "      <td>Positive</td>\n",
       "      <td>TripAdvisor</td>\n",
       "    </tr>\n",
       "  </tbody>\n",
       "</table>\n",
       "</div>"
      ],
      "text/plain": [
       "  Text, Sentiment, Source, Date/Time, User ID, Location, Confidence Score  \\\n",
       "0  \"I love this product!\", Positive, Twitter, 202...                        \n",
       "1  \"The service was terrible.\", Negative, Yelp Re...                        \n",
       "2  \"This movie is amazing!\", Positive, IMDb, 2023...                        \n",
       "3  \"I'm so disappointed with their customer suppo...                        \n",
       "4  \"Just had the best meal of my life!\", Positive...                        \n",
       "\n",
       "                                            feedback  sentiment         source  \n",
       "0                             \"I love this product!\"   Positive        Twitter  \n",
       "1                        \"The service was terrible.\"   Negative   Yelp Reviews  \n",
       "2                           \"This movie is amazing!\"   Positive           IMDb  \n",
       "3  \"I'm so disappointed with their customer suppo...   Negative   Online Forum  \n",
       "4               \"Just had the best meal of my life!\"   Positive    TripAdvisor  "
      ]
     },
     "execution_count": 287,
     "metadata": {},
     "output_type": "execute_result"
    }
   ],
   "source": [
    "df.head()\n"
   ]
  },
  {
   "cell_type": "code",
   "execution_count": 288,
   "id": "cb4e7e59-32e3-4842-aced-c12b70a432b1",
   "metadata": {},
   "outputs": [],
   "source": [
    "df = df.drop(\"Text, Sentiment, Source, Date/Time, User ID, Location, Confidence Score\", axis = 1)"
   ]
  },
  {
   "cell_type": "code",
   "execution_count": 289,
   "id": "5ef7afe2-1c10-45c4-97f2-d5c51916fdd5",
   "metadata": {},
   "outputs": [],
   "source": [
    "df['feedback'] = df['feedback'].str.lower()\n",
    "df['sentiment'] = df['sentiment'].str.lower()\n",
    "df['source'] = df['source'].str.lower()"
   ]
  },
  {
   "cell_type": "code",
   "execution_count": 290,
   "id": "e470a773-3d81-46d1-8fac-7317d75b5572",
   "metadata": {},
   "outputs": [
    {
     "data": {
      "text/html": [
       "<div>\n",
       "<style scoped>\n",
       "    .dataframe tbody tr th:only-of-type {\n",
       "        vertical-align: middle;\n",
       "    }\n",
       "\n",
       "    .dataframe tbody tr th {\n",
       "        vertical-align: top;\n",
       "    }\n",
       "\n",
       "    .dataframe thead th {\n",
       "        text-align: right;\n",
       "    }\n",
       "</style>\n",
       "<table border=\"1\" class=\"dataframe\">\n",
       "  <thead>\n",
       "    <tr style=\"text-align: right;\">\n",
       "      <th></th>\n",
       "      <th>feedback</th>\n",
       "      <th>sentiment</th>\n",
       "      <th>source</th>\n",
       "    </tr>\n",
       "  </thead>\n",
       "  <tbody>\n",
       "    <tr>\n",
       "      <th>0</th>\n",
       "      <td>\"i love this product!\"</td>\n",
       "      <td>positive</td>\n",
       "      <td>twitter</td>\n",
       "    </tr>\n",
       "    <tr>\n",
       "      <th>1</th>\n",
       "      <td>\"the service was terrible.\"</td>\n",
       "      <td>negative</td>\n",
       "      <td>yelp reviews</td>\n",
       "    </tr>\n",
       "    <tr>\n",
       "      <th>2</th>\n",
       "      <td>\"this movie is amazing!\"</td>\n",
       "      <td>positive</td>\n",
       "      <td>imdb</td>\n",
       "    </tr>\n",
       "    <tr>\n",
       "      <th>3</th>\n",
       "      <td>\"i'm so disappointed with their customer suppo...</td>\n",
       "      <td>negative</td>\n",
       "      <td>online forum</td>\n",
       "    </tr>\n",
       "    <tr>\n",
       "      <th>4</th>\n",
       "      <td>\"just had the best meal of my life!\"</td>\n",
       "      <td>positive</td>\n",
       "      <td>tripadvisor</td>\n",
       "    </tr>\n",
       "    <tr>\n",
       "      <th>...</th>\n",
       "      <td>...</td>\n",
       "      <td>...</td>\n",
       "      <td>...</td>\n",
       "    </tr>\n",
       "    <tr>\n",
       "      <th>91</th>\n",
       "      <td>\"just had the most amazing vacation! i can't w...</td>\n",
       "      <td>positive</td>\n",
       "      <td>tripadvisor</td>\n",
       "    </tr>\n",
       "    <tr>\n",
       "      <th>92</th>\n",
       "      <td>\"the food at this restaurant was awful. never ...</td>\n",
       "      <td>negative</td>\n",
       "      <td>zomato</td>\n",
       "    </tr>\n",
       "    <tr>\n",
       "      <th>93</th>\n",
       "      <td>\"i can't stop listening to this song. it's my ...</td>\n",
       "      <td>positive</td>\n",
       "      <td>spotify</td>\n",
       "    </tr>\n",
       "    <tr>\n",
       "      <th>94</th>\n",
       "      <td>\"their website is so confusing and poorly desi...</td>\n",
       "      <td>negative</td>\n",
       "      <td>website review</td>\n",
       "    </tr>\n",
       "    <tr>\n",
       "      <th>95</th>\n",
       "      <td>\"i had an incredible experience at the theme p...</td>\n",
       "      <td>positive</td>\n",
       "      <td>trip report</td>\n",
       "    </tr>\n",
       "  </tbody>\n",
       "</table>\n",
       "<p>96 rows × 3 columns</p>\n",
       "</div>"
      ],
      "text/plain": [
       "                                             feedback  sentiment  \\\n",
       "0                              \"i love this product!\"   positive   \n",
       "1                         \"the service was terrible.\"   negative   \n",
       "2                            \"this movie is amazing!\"   positive   \n",
       "3   \"i'm so disappointed with their customer suppo...   negative   \n",
       "4                \"just had the best meal of my life!\"   positive   \n",
       "..                                                ...        ...   \n",
       "91  \"just had the most amazing vacation! i can't w...   positive   \n",
       "92  \"the food at this restaurant was awful. never ...   negative   \n",
       "93  \"i can't stop listening to this song. it's my ...   positive   \n",
       "94  \"their website is so confusing and poorly desi...   negative   \n",
       "95  \"i had an incredible experience at the theme p...   positive   \n",
       "\n",
       "             source  \n",
       "0           twitter  \n",
       "1      yelp reviews  \n",
       "2              imdb  \n",
       "3      online forum  \n",
       "4       tripadvisor  \n",
       "..              ...  \n",
       "91      tripadvisor  \n",
       "92           zomato  \n",
       "93          spotify  \n",
       "94   website review  \n",
       "95      trip report  \n",
       "\n",
       "[96 rows x 3 columns]"
      ]
     },
     "execution_count": 290,
     "metadata": {},
     "output_type": "execute_result"
    }
   ],
   "source": [
    "df"
   ]
  },
  {
   "cell_type": "code",
   "execution_count": 291,
   "id": "b30e0376-7e96-4f5e-bad7-be765a01de56",
   "metadata": {},
   "outputs": [],
   "source": [
    "texts = df[\"feedback\"]\n",
    "labels = df[\"sentiment\"]\n",
    "\n",
    "\n",
    "label_encoder = LabelEncoder()\n",
    "y = label_encoder.fit_transform(labels)\n",
    "\n",
    "texts_train, texts_test, y_train, y_test = train_test_split(texts, y, test_size=0.2, random_state=42)"
   ]
  },
  {
   "cell_type": "code",
   "execution_count": 292,
   "id": "68d6dc86-a82b-4cbd-86d3-12b7c64e3f63",
   "metadata": {},
   "outputs": [],
   "source": [
    "max_len = 10 \n",
    "vocab_size = 1000  \n",
    "embedding_dim = 64  \n",
    "\n",
    "from tensorflow.keras.preprocessing.text import Tokenizer\n",
    "from tensorflow.keras.preprocessing.sequence import pad_sequences\n",
    "\n",
    "tokenizer = Tokenizer(num_words=vocab_size)\n",
    "tokenizer.fit_on_texts(texts_train)"
   ]
  },
  {
   "cell_type": "code",
   "execution_count": 293,
   "id": "0da30887-bf83-42e9-b454-c3b09696a6e7",
   "metadata": {},
   "outputs": [],
   "source": [
    "def get_sequences(tokenizer, texts):\n",
    "    sequences = tokenizer.texts_to_sequences(texts)\n",
    "    padded = pad_sequences(sequences, maxlen=max_len, padding='post')\n",
    "    return padded"
   ]
  },
  {
   "cell_type": "code",
   "execution_count": 294,
   "id": "30cbb5bc-2cc1-442f-8b19-182f51e3a73d",
   "metadata": {},
   "outputs": [],
   "source": [
    "X_train = get_sequences(tokenizer, texts_train)\n",
    "X_test = get_sequences(tokenizer, texts_test)"
   ]
  },
  {
   "cell_type": "code",
   "execution_count": 295,
   "id": "081d5173-d0a8-4d8b-bb65-1c2637a029ab",
   "metadata": {},
   "outputs": [],
   "source": [
    "class LSTMModel(nn.Module):\n",
    "    def __init__(self, vocab_size, embedding_dim, hidden_dim, output_dim):\n",
    "        super(LSTMModel, self).__init__()\n",
    "        self.embedding = nn.Embedding(vocab_size, embedding_dim)\n",
    "        self.lstm = nn.LSTM(embedding_dim, hidden_dim, batch_first=True)\n",
    "        self.fc = nn.Linear(hidden_dim, output_dim)\n",
    "    \n",
    "    def forward(self, x):\n",
    "        x = self.embedding(x)\n",
    "        lstm_out, (hidden, _) = self.lstm(x)\n",
    "        output = self.fc(hidden.squeeze(0))\n",
    "        return output"
   ]
  },
  {
   "cell_type": "code",
   "execution_count": 296,
   "id": "237f594a-8497-4e04-8be4-576f0f98d488",
   "metadata": {},
   "outputs": [],
   "source": [
    "hidden_dim = 128\n",
    "output_dim = len(np.unique(y))\n",
    "model = LSTMModel(vocab_size, embedding_dim, hidden_dim, output_dim)\n",
    "\n",
    "lr = 0.001\n",
    "num_epochs = 10\n",
    "batch_size = 2\n",
    "criterion = nn.CrossEntropyLoss()\n",
    "optimizer = optim.Adam(model.parameters(), lr=lr)"
   ]
  },
  {
   "cell_type": "code",
   "execution_count": 297,
   "id": "edb2b17f-a477-4bb1-8dc4-524d3d24606d",
   "metadata": {},
   "outputs": [],
   "source": [
    "train_data = list(zip(torch.LongTensor(X_train), torch.LongTensor(y_train)))\n",
    "train_loader = DataLoader(train_data, batch_size=batch_size, shuffle=True)\n",
    "test_data = list(zip(torch.LongTensor(X_test), torch.LongTensor(y_test)))\n",
    "test_loader = DataLoader(test_data, batch_size=batch_size, shuffle=False)"
   ]
  },
  {
   "cell_type": "code",
   "execution_count": 298,
   "id": "13a5fd3f-7662-404c-9815-c77dc043ceab",
   "metadata": {},
   "outputs": [],
   "source": [
    "model.train()\n",
    "for epoch in range(num_epochs):\n",
    "    for inputs, labels in train_loader:\n",
    "        optimizer.zero_grad()\n",
    "        outputs = model(inputs)\n",
    "        loss = criterion(outputs, labels)\n",
    "        loss.backward()\n",
    "        optimizer.step()"
   ]
  },
  {
   "cell_type": "code",
   "execution_count": 301,
   "id": "fe8796e9-cbe3-48aa-9ca2-0aa4eb178869",
   "metadata": {},
   "outputs": [],
   "source": [
    "import torch.nn.functional as F\n",
    "model.eval()\n",
    "all_preds = []\n",
    "all_labels = []\n",
    "for inputs, labels in test_loader:\n",
    "    outputs = model(inputs)\n",
    "    preds = torch.argmax(F.softmax(outputs, dim=1), dim=1)\n",
    "    all_preds.extend(preds.tolist())\n",
    "    all_labels.extend(labels.tolist())\n"
   ]
  },
  {
   "cell_type": "code",
   "execution_count": 302,
   "id": "a469b381-e055-45e3-b07a-88861cb3663c",
   "metadata": {},
   "outputs": [
    {
     "name": "stdout",
     "output_type": "stream",
     "text": [
      "Accuracy: 0.85\n"
     ]
    }
   ],
   "source": [
    "accuracy = accuracy_score(all_labels, all_preds)\n",
    "print(\"Accuracy:\", accuracy)"
   ]
  },
  {
   "cell_type": "code",
   "execution_count": 303,
   "id": "20415df4-d0c1-4af7-b308-829d7d1fdfc4",
   "metadata": {},
   "outputs": [],
   "source": [
    "torch.save(model.state_dict(), 'sentiment_lstm_model.pth')"
   ]
  },
  {
   "cell_type": "code",
   "execution_count": 304,
   "id": "28ed6bbc-b053-45e6-96ad-255a6a1cb9ff",
   "metadata": {},
   "outputs": [],
   "source": [
    "import torch\n",
    "import torch.nn as nn\n",
    "from torch import optim\n",
    "from sklearn.preprocessing import LabelEncoder\n",
    "from tensorflow.keras.preprocessing.text import Tokenizer\n",
    "from tensorflow.keras.preprocessing.sequence import pad_sequences"
   ]
  },
  {
   "cell_type": "code",
   "execution_count": 305,
   "id": "4909aa4a-79b6-4871-88ed-b4c493d3fc16",
   "metadata": {},
   "outputs": [],
   "source": [
    "class LSTMModel(nn.Module):\n",
    "    def __init__(self, vocab_size, embedding_dim, hidden_dim, output_dim):\n",
    "        super(LSTMModel, self).__init__()\n",
    "        self.embedding = nn.Embedding(vocab_size, embedding_dim)\n",
    "        self.lstm = nn.LSTM(embedding_dim, hidden_dim, batch_first=True)\n",
    "        self.fc = nn.Linear(hidden_dim, output_dim)\n",
    "    \n",
    "    def forward(self, x):\n",
    "        embedded = self.embedding(x)\n",
    "        lstm_out, (hidden, cell) = self.lstm(embedded)\n",
    "        output = self.fc(hidden[-1])\n",
    "        return output\n"
   ]
  },
  {
   "cell_type": "code",
   "execution_count": 306,
   "id": "f272fda3-b145-4394-9d34-dfc1aeabdcc4",
   "metadata": {},
   "outputs": [],
   "source": [
    "max_len = 10\n",
    "vocab_size = 1000\n",
    "embedding_dim = 64\n",
    "hidden_dim = 128\n",
    "output_dim = 2  "
   ]
  },
  {
   "cell_type": "code",
   "execution_count": 307,
   "id": "2d48c9c2-56bc-4382-80d5-6ade98fcad38",
   "metadata": {},
   "outputs": [
    {
     "name": "stdin",
     "output_type": "stream",
     "text": [
      "Enter a sentence (Type 'exit' to quit):  I love this product\n"
     ]
    },
    {
     "name": "stdout",
     "output_type": "stream",
     "text": [
      "Predicted sentiment:  negative\n"
     ]
    },
    {
     "name": "stdin",
     "output_type": "stream",
     "text": [
      "Enter a sentence (Type 'exit' to quit):  this movie is amazing\n"
     ]
    },
    {
     "name": "stdout",
     "output_type": "stream",
     "text": [
      "Predicted sentiment:  positive\n"
     ]
    },
    {
     "name": "stdin",
     "output_type": "stream",
     "text": [
      "Enter a sentence (Type 'exit' to quit):  i can't stop listening to this song.\n"
     ]
    },
    {
     "name": "stdout",
     "output_type": "stream",
     "text": [
      "Predicted sentiment:  positive\n"
     ]
    },
    {
     "name": "stdin",
     "output_type": "stream",
     "text": [
      "Enter a sentence (Type 'exit' to quit):  exit\n"
     ]
    }
   ],
   "source": [
    "import torch\n",
    "import torch.nn as nn\n",
    "from tensorflow.keras.preprocessing.text import Tokenizer\n",
    "from tensorflow.keras.preprocessing.sequence import pad_sequences\n",
    "\n",
    "model = LSTMModel(vocab_size, embedding_dim, hidden_dim, output_dim)\n",
    "model.load_state_dict(torch.load('sentiment_lstm_model.pth'))\n",
    "model.eval()\n",
    "\n",
    "tokenizer = Tokenizer(num_words=vocab_size)\n",
    "tokenizer.fit_on_texts(texts_train)\n",
    "\n",
    "max_len = 10\n",
    "\n",
    "while True:\n",
    "    user_input = input(\"Enter a sentence (Type 'exit' to quit): \")\n",
    "    \n",
    "    if user_input.lower() == 'exit':\n",
    "        break\n",
    "    \n",
    "    tokenized = tokenizer.texts_to_sequences([user_input])\n",
    "    padded = pad_sequences(tokenized, maxlen=max_len, padding='post')\n",
    "    \n",
    "    model_input = torch.LongTensor(padded)\n",
    "    output = model(model_input)\n",
    "    \n",
    "    prediction = torch.argmax(output, dim=1).item()\n",
    "    sentiment = label_encoder.inverse_transform([prediction])[0]\n",
    "    \n",
    "    print(\"Predicted sentiment:\", sentiment)"
   ]
  },
  {
   "cell_type": "code",
   "execution_count": null,
   "id": "59ddb688-9f99-4f3d-973a-f25c7c024d04",
   "metadata": {},
   "outputs": [],
   "source": []
  }
 ],
 "metadata": {
  "kernelspec": {
   "display_name": "Python 3 (ipykernel)",
   "language": "python",
   "name": "python3"
  },
  "language_info": {
   "codemirror_mode": {
    "name": "ipython",
    "version": 3
   },
   "file_extension": ".py",
   "mimetype": "text/x-python",
   "name": "python",
   "nbconvert_exporter": "python",
   "pygments_lexer": "ipython3",
   "version": "3.11.5"
  }
 },
 "nbformat": 4,
 "nbformat_minor": 5
}
